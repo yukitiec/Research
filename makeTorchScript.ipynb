{
 "cells": [
  {
   "cell_type": "code",
   "execution_count": 1,
   "metadata": {},
   "outputs": [],
   "source": [
    "from ultralytics import YOLO"
   ]
  },
  {
   "cell_type": "code",
   "execution_count": 4,
   "metadata": {},
   "outputs": [
    {
     "name": "stderr",
     "output_type": "stream",
     "text": [
      "Ultralytics YOLOv8.0.180  Python-3.10.11 torch-2.0.1 CPU (11th Gen Intel Core(TM) i5-1135G7 2.40GHz)\n",
      "YOLOv8n-pose summary (fused): 187 layers, 3289964 parameters, 0 gradients\n",
      "\n",
      "\u001b[34m\u001b[1mPyTorch:\u001b[0m starting from 'yolov8n-pose.pt' with input shape (1, 3, 320, 320) BCHW and output shape(s) (1, 56, 2100) (6.5 MB)\n",
      "\n",
      "\u001b[34m\u001b[1mTorchScript:\u001b[0m starting export with torch 2.0.1...\n",
      "\u001b[34m\u001b[1mTorchScript:\u001b[0m export success  2.0s, saved as 'yolov8n-pose.torchscript' (13.0 MB)\n",
      "\n",
      "Export complete (4.0s)\n",
      "Results saved to \u001b[1mC:\\Users\\kawaw\\python\u001b[0m\n",
      "Predict:         yolo predict task=pose model=yolov8n-pose.torchscript imgsz=320  \n",
      "Validate:        yolo val task=pose model=yolov8n-pose.torchscript imgsz=320 data=/usr/src/app/ultralytics/datasets/coco-pose.yaml  \n",
      "Visualize:       https://netron.app\n"
     ]
    }
   ],
   "source": [
    "# モデルの読み込み。姿勢推論用のモデルデータを読み込む\n",
    "model = YOLO(\"yolov8n-pose.pt\")\n",
    "\n",
    "path = model.export(\n",
    "    format=\"torchscript\", imgsz=(320, 320)\n",
    ")  # export the model to ONNX format"
   ]
  },
  {
   "cell_type": "code",
   "execution_count": 16,
   "metadata": {},
   "outputs": [
    {
     "name": "stdout",
     "output_type": "stream",
     "text": [
      "tensor([1.2889e+01, 8.4803e+00, 2.6223e+01, 2.0764e+01, 1.5814e-04, 7.2274e+00, 3.3711e+00, 8.4258e-02, 8.2892e+00, 1.2218e+00, 8.0910e-02, 6.4924e+00, 1.3026e+00, 8.3411e-02, 1.0353e+01, 8.2155e-01, 9.2313e-02, 6.8579e+00, 1.0120e+00, 9.6640e-02, 1.1915e+01, 4.8428e+00, 1.2249e-01, 4.8906e+00, 4.9373e+00, 1.3201e-01,\n",
      "        1.1960e+01, 4.1769e+00, 1.0736e-01, 1.9623e+00, 4.3166e+00, 1.2432e-01, 8.3209e+00, 2.5162e+00, 1.1962e-01, 2.0942e+00, 2.9014e+00, 1.3282e-01, 9.2558e+00, 4.7654e+00, 1.1625e-01, 5.3180e+00, 4.7564e+00, 1.2000e-01, 8.6618e+00, 2.2791e+00, 1.2742e-01, 4.3201e+00, 2.1642e+00, 1.3338e-01, 6.3715e+00, 8.8017e+00,\n",
      "        2.2093e-01, 3.0378e+00, 8.8032e+00, 2.2929e-01])\n"
     ]
    }
   ],
   "source": [
    "import torch\n",
    "\n",
    "imgTensor = torch.rand((1, 3, 320, 320))\n",
    "model = torch.jit.load(r\"C:\\Users\\kawaw\\python\\yolov8n-pose.torchscript\")\n",
    "model.eval()\n",
    "preds = model.forward(imgTensor)  # preds : [1,56,2100]\n",
    "preds = torch.transpose(preds, 2, 1)  # preds : [1,2100,56]\n",
    "print(preds[0][0])"
   ]
  },
  {
   "cell_type": "code",
   "execution_count": null,
   "metadata": {},
   "outputs": [],
   "source": []
  }
 ],
 "metadata": {
  "kernelspec": {
   "display_name": "kawawaki",
   "language": "python",
   "name": "python3"
  },
  "language_info": {
   "codemirror_mode": {
    "name": "ipython",
    "version": 3
   },
   "file_extension": ".py",
   "mimetype": "text/x-python",
   "name": "python",
   "nbconvert_exporter": "python",
   "pygments_lexer": "ipython3",
   "version": "3.10.11"
  },
  "orig_nbformat": 4
 },
 "nbformat": 4,
 "nbformat_minor": 2
}
